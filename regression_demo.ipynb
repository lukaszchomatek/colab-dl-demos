{
  "nbformat": 4,
  "nbformat_minor": 0,
  "metadata": {
    "colab": {
      "provenance": [],
      "authorship_tag": "ABX9TyOPl6oSpY2+y9vVxtIk9UbM",
      "include_colab_link": true
    },
    "kernelspec": {
      "name": "python3",
      "display_name": "Python 3"
    },
    "language_info": {
      "name": "python"
    }
  },
  "cells": [
    {
      "cell_type": "markdown",
      "metadata": {
        "id": "view-in-github",
        "colab_type": "text"
      },
      "source": [
        "<a href=\"https://colab.research.google.com/github/lukaszchomatek/colab-dl-demos/blob/master/regression_demo.ipynb\" target=\"_parent\"><img src=\"https://colab.research.google.com/assets/colab-badge.svg\" alt=\"Open In Colab\"/></a>"
      ]
    },
    {
      "cell_type": "code",
      "execution_count": null,
      "metadata": {
        "id": "C8XhYbWOw91K"
      },
      "outputs": [],
      "source": [
        "import pandas as pd\n",
        "import numpy as np\n",
        "import matplotlib.pyplot as plt\n",
        "\n",
        "from sklearn.model_selection import train_test_split\n",
        "from sklearn.linear_model import LinearRegression\n",
        "from sklearn.metrics import mean_squared_error, r2_score"
      ]
    },
    {
      "cell_type": "code",
      "source": [
        "# dataset import\n",
        "from sklearn.datasets import fetch_openml\n",
        "df = fetch_openml(name=\"boston\", version=1, as_frame=True).frame\n",
        "\n",
        "df.head()"
      ],
      "metadata": {
        "id": "MHnQCiAO0hOz"
      },
      "execution_count": null,
      "outputs": []
    },
    {
      "cell_type": "code",
      "source": [
        "df.info()\n",
        "print(df.corr(numeric_only=True)[\"MEDV\"].sort_values())"
      ],
      "metadata": {
        "id": "KQ-9A8k71TgQ"
      },
      "execution_count": null,
      "outputs": []
    },
    {
      "cell_type": "code",
      "source": [
        "feature = \"RM\"\n",
        "\n",
        "plt.figure(figsize=(10, 6))\n",
        "plt.scatter(df[feature], df[\"MEDV\"])\n",
        "plt.xlabel(feature)\n",
        "plt.ylabel(\"MEDV\")\n",
        "plt.show()"
      ],
      "metadata": {
        "id": "RqrnTWov16aL"
      },
      "execution_count": null,
      "outputs": []
    },
    {
      "cell_type": "code",
      "source": [
        "X = df[[feature]]\n",
        "y = df[\"MEDV\"]\n",
        "\n",
        "X_train, X_test, y_train, y_test = train_test_split(X, y, test_size=0.2, random_state=42)\n",
        "\n",
        "model = LinearRegression()\n",
        "model.fit(X_train, y_train)\n",
        "\n",
        "y_pred = model.predict(X_test)\n",
        "\n",
        "mse = mean_squared_error(y_test, y_pred)\n",
        "r2 = r2_score(y_test, y_pred)\n",
        "\n",
        "print(\"MSE\", mse)\n",
        "print(\"r2\", r2)"
      ],
      "metadata": {
        "id": "syW0n4IO2dMP"
      },
      "execution_count": null,
      "outputs": []
    },
    {
      "cell_type": "code",
      "source": [
        "plt.figure(figsize=(10, 6))\n",
        "plt.scatter(X_test, y_test, color=\"black\")\n",
        "plt.plot(X_test, y_pred, color=\"blue\", linewidth=3)\n",
        "plt.xlabel(feature)\n",
        "plt.ylabel(\"MEDV\")\n",
        "plt.show()"
      ],
      "metadata": {
        "id": "8XHGhQIu3Olq"
      },
      "execution_count": null,
      "outputs": []
    },
    {
      "cell_type": "code",
      "source": [
        "import tensorflow as tf\n",
        "from tensorflow import keras\n",
        "from tensorflow.keras.models import Sequential\n",
        "from tensorflow.keras.layers import Dense\n",
        "\n",
        "# Build a 3-layer neural network model\n",
        "model_nn = Sequential([\n",
        "    Dense(256,activation='gelu', input_shape=(X_train.shape[1],)),\n",
        "    Dense(128, activation='gelu'),\n",
        "    Dense(1)  # Output layer for regression\n",
        "])\n",
        "\n",
        "# Compile the model\n",
        "model_nn.compile(optimizer='adam', loss='mse')\n",
        "\n",
        "# Train the model\n",
        "history = model_nn.fit(X_train, y_train, epochs=300, batch_size=32, verbose=0)\n",
        "\n",
        "# Make predictions\n",
        "y_pred_nn = model_nn.predict(X_test)\n",
        "\n",
        "# Evaluate the model\n",
        "mse_nn = mean_squared_error(y_test, y_pred_nn)\n",
        "r2_nn = r2_score(y_test, y_pred_nn)\n",
        "\n",
        "print(\"Neural Network MSE:\", mse_nn)\n",
        "print(\"Neural Network R2:\", r2_nn)\n",
        "\n",
        "# Plot the results\n",
        "plt.figure(figsize=(10, 6))\n",
        "plt.scatter(X_test, y_test, color=\"black\")\n",
        "plt.scatter(X_test, y_pred_nn, color=\"red\", linewidth=3)\n",
        "plt.plot(X_test, y_pred, color=\"blue\", linewidth=3)\n",
        "plt.xlabel(feature)\n",
        "plt.ylabel(\"MEDV\")\n",
        "plt.title(\"Neural Network Regression\")\n",
        "plt.show()"
      ],
      "metadata": {
        "id": "iFKY9VEn4EZi"
      },
      "execution_count": null,
      "outputs": []
    }
  ]
}